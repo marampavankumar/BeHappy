{
 "cells": [
  {
   "cell_type": "code",
   "execution_count": 1,
   "id": "531ad8ee",
   "metadata": {},
   "outputs": [],
   "source": [
    "from openai import OpenAI"
   ]
  },
  {
   "cell_type": "code",
   "execution_count": 4,
   "id": "8b6b9b4b",
   "metadata": {},
   "outputs": [
    {
     "name": "stdout",
     "output_type": "stream",
     "text": [
      "ChatCompletionMessage(content='{\"enhanced\": true, \"enhancedPrompt\": \"What is the expiry date of the card ending with 0189?\"}', role='assistant', function_call=None, tool_calls=None)\n"
     ]
    }
   ],
   "source": [
    "client = OpenAI(api_key='')\n",
    "response = client.chat.completions.create(model=\"gpt-3.5-turbo\", \n",
    "                                          messages = [{\"role\":\"system\", \"content\": \n",
    "                                                       \"You are an intelligent bot that takes the history of conversations between user and bot assistant to improve the latest user prompt to have additional context that is implicit. YOU SHOULD NOT ATTEMPT TO FIND ANSWERS TO USERS QUESTION BUT RATHER JUST REWRITE THE USERS PROMPT WITH ADDITIONAL DETAILS THAT ARE IMPLICIT. Response would be in the following JSON format \\\"{enhanced: true if it was possible to enhance the user prompt and false if the user prompt cannot be enhanced with additional implicit context and the existing user prompt is good and all details are provided., enhancedPrompt: REWRITTEN USER PROMPT THAT HAS ADDITIONAL CONTEXT BASED ON THE USER CONVERSATION HISTORY.\\\"}\"},\n",
    "                                                        {\"role\":\"user\", \"content\": \n",
    "                                                         \"Provide the response for the following conversation history\\n user: what are you?\"},\n",
    "                                                        {\"role\":\"assistant\", \"content\": \n",
    "                                                         \"{\\\"enhanced\\\": false }\"},\n",
    "                                                      {\"role\":\"user\", \"content\": \n",
    "                                                         \"Provide the response for the following conversation history\\n user:What are my balances for card ending in 4766\\n assistant: Balances for card ending in 4766 are AB=5 and CR=2\\n user: What is my monthly Spend\"},\n",
    "                                                        {\"role\":\"assistant\", \"content\": \n",
    "                                                         \"{\\\"enhanced\\\": true, \\\"enhancedPrompt\\\": \\\"What is my monthly spend for the card ending in 4766?\\\"}\"},\n",
    "                                                        {\"role\":\"user\", \"content\": \n",
    "                                                         \"Provide the response for the following conversation history\\n user:What are my balances for card ending in 3212\\n assistant: Balances for card ending in 3212 are AB=5 and CR=2\\n user: What is my monthly Spend for card\\n assistant: Your monthly spend for card ending in 3212 is $2500\\n user: what are transactions for the month of May\"},\n",
    "                                                        {\"role\":\"assistant\", \"content\":\n",
    "                                                         \"{\\\"enhanced\\\": true, \\\"enhancedPrompt\\\": \\\"For card ending 3212, what are transactions for the month of May?\\\" }\"},\n",
    "                                                        {\"role\":\"user\", \"content\": \n",
    "                                                         \"Provide the response for the following conversation history\\n user:What are my balances for card ending in 0987\\n assistant: Balances for card ending in 0987 are AB=5 and CR=2\\n user: What is my monthly Spend for card\\n assistant: Your monthly spend for card ending in 0987 is $2500\\n user: How much did I spend in Feb\"},\n",
    "                                                      {\"role\":\"assistant\", \"content\": \n",
    "                                                         \"{\\\"enhanced\\\": true, \\\"enhancedPrompt\\\": \\\"How much did I spend in February for the card ending in 0987\\\" }\"},\n",
    "                                                      {\"role\":\"user\", \"content\": \n",
    "                                                         \"Provide the response for the following conversation history\\n user:What are my balances for card ending in 9872\\n assistant: Balances for card ending in 9872 are AB=5 and CR=2\\n user: What is my monthly Spend for card\\n assistant: Your monthly spend for card ending in 9872 is $2500\\n user: What is the monthly spend for card ending in 2212?\"},\n",
    "                                                      {\"role\":\"assistant\", \"content\": \n",
    "                                                         \"{\\\"enhanced\\\": false }\"},\n",
    "                                                      {\"role\":\"user\", \"content\": \n",
    "                                                         \"Provide the response for the following conversation history\\n user: What are the balances on my cards?\\n assistant: Athena: Sure, I can help you with that. Can you please provide me with your card details?\\n user: What are the balances on my card ending with 5678?\\n assistant: Athena: I apologize, but I don't have access to your card information. However, I can provide you with the balances of your cards if you provide me with the last four digits of the card number.\\n user: What are the balances on my card ending with 1234?\\n assistant: Athena: I'm sorry, but I don't have any information about a card ending with 1234. Could you please provide me with the correct last four digits of your card number?\\n user: What are the balances on my card ending with 0189?\\n assistant: Athena: The balance on your card ending with 0189 is not available. However, I can provide you with other information about this card. It is an active debit card, managed by the bank. The cardholder's full name is Piatt Randy. The monthly spend on this card is $473.85, with no monthly deposit spend or recurring spend. The card does not have any rewards associated with it.\\n user: what is expiryDate\"}\n",
    "                                                       ])\n",
    "print(response.choices[0].message)"
   ]
  },
  {
   "cell_type": "code",
   "execution_count": null,
   "id": "989e93d3",
   "metadata": {},
   "outputs": [],
   "source": []
  }
 ],
 "metadata": {
  "kernelspec": {
   "display_name": "Python 3 (ipykernel)",
   "language": "python",
   "name": "python3"
  },
  "language_info": {
   "codemirror_mode": {
    "name": "ipython",
    "version": 3
   },
   "file_extension": ".py",
   "mimetype": "text/x-python",
   "name": "python",
   "nbconvert_exporter": "python",
   "pygments_lexer": "ipython3",
   "version": "3.11.5"
  }
 },
 "nbformat": 4,
 "nbformat_minor": 5
}
