{
 "cells": [
  {
   "cell_type": "code",
   "execution_count": 1,
   "id": "63754869",
   "metadata": {},
   "outputs": [],
   "source": [
    "!pip install -q -U google-generativeai"
   ]
  },
  {
   "cell_type": "code",
   "execution_count": 2,
   "id": "24ff9308",
   "metadata": {},
   "outputs": [
    {
     "name": "stdout",
     "output_type": "stream",
     "text": [
      "Name: google-generativeai\n",
      "Version: 0.3.2\n",
      "Summary: Google Generative AI High level API client library and tools.\n",
      "Home-page: https://github.com/google/generative-ai-python\n",
      "Author: Google LLC\n",
      "Author-email: googleapis-packages@google.com\n",
      "License: Apache 2.0\n",
      "Location: C:\\Users\\maram\\anaconda3\\Lib\\site-packages\n",
      "Requires: google-ai-generativelanguage, google-api-core, google-auth, protobuf, tqdm, typing-extensions\n",
      "Required-by: \n"
     ]
    }
   ],
   "source": [
    "!pip show google-generativeai"
   ]
  },
  {
   "cell_type": "code",
   "execution_count": 3,
   "id": "0af6eb3c",
   "metadata": {},
   "outputs": [
    {
     "name": "stdout",
     "output_type": "stream",
     "text": [
      "models/gemini-pro\n",
      "models/gemini-pro-vision\n"
     ]
    }
   ],
   "source": [
    "import pathlib\n",
    "import textwrap\n",
    "\n",
    "import google.generativeai as genai\n",
    "\n",
    "from IPython.display import display\n",
    "from IPython.display import Markdown\n",
    "\n",
    "def to_markdown(text):\n",
    "    text = text.replace('•', '  *')\n",
    "    return Markdown(textwrap.indent(text, '> ', predicate=lambda _: True))\n",
    "\n",
    "genai.configure(api_key='')\n",
    "\n",
    "for m in genai.list_models():\n",
    "    if 'generateContent' in m.supported_generation_methods:\n",
    "        print(m.name)"
   ]
  },
  {
   "cell_type": "code",
   "execution_count": 5,
   "id": "94971ca6",
   "metadata": {},
   "outputs": [],
   "source": [
    "model = genai.GenerativeModel('gemini-pro')"
   ]
  },
  {
   "cell_type": "code",
   "execution_count": 6,
   "id": "9962f485",
   "metadata": {},
   "outputs": [
    {
     "name": "stdout",
     "output_type": "stream",
     "text": [
      "CPU times: total: 0 ns\n",
      "Wall time: 7.86 s\n"
     ]
    }
   ],
   "source": [
    "%%time\n",
    "response = model.generate_content(\"Give me a brief description about Generative AI\")"
   ]
  },
  {
   "cell_type": "code",
   "execution_count": 7,
   "id": "3657d155",
   "metadata": {},
   "outputs": [
    {
     "data": {
      "text/markdown": [
       "> Generative AI, a subset of Artificial Intelligence, refers to AI systems that have the ability to generate new data or content that has similar characteristics to existing data. These systems have the capability to learn from and analyze a diverse range of data, and utilize this knowledge to create novel and realistic outputs. Generative AI involves various techniques, including:\n",
       "> \n",
       "> 1. **Generative Adversarial Networks (GANs):** GANs consist of two AI networks: a generator network that creates new data points, and a discriminator network that assesses whether the generated data is real or fabricated. The two networks work in tandem, with the generator striving to deceive the discriminator, while the discriminator discerns the authenticity of the generated data. This iterative process enables the generator to produce realistic and convincing outputs.\n",
       "> \n",
       "> 2. **Variational Autoencoders (VAEs):** VAEs function as a type of generative model that utilizes a latent variable to comprehend the underlying distribution of a given data set. The VAE encodes input data into a latent representation, and then decodes this representation to generate new examples with similar characteristics. VAEs are often employed for image and text generation, as they excel at capturing the intricate features and patterns within these data types.\n",
       "> \n",
       "> 3. **Deep Generative Models:** Deep generative models encompass a wide range of AI architectures that leverage numerous layers of artificial neural networks. These models are capable of generating high-quality data across diverse domains, including images, video, natural language, and audio. Popular deep generative models include Deep Convolutional Generative Adversarial Networks (DCGANs) for image synthesis, Graph Generative Networks (GGNs) for molecular structure generation, and Text-to-Speech (TTS) models for synthesizing speech from text inputs.\n",
       "> \n",
       "> Generative AI finds application across numerous industries and sectors, revolutionizing tasks like image and video generation, natural language generation, and music production. Generative AI systems are also aiding in drug discovery, automated content creation, and even the design of new materials. Ongoing advancements in Generative AI continue to push the boundaries of what AI systems can create, opening up new avenues for innovation and creativity."
      ],
      "text/plain": [
       "<IPython.core.display.Markdown object>"
      ]
     },
     "execution_count": 7,
     "metadata": {},
     "output_type": "execute_result"
    }
   ],
   "source": [
    "to_markdown(response.text)"
   ]
  }
 ],
 "metadata": {
  "kernelspec": {
   "display_name": "Python 3 (ipykernel)",
   "language": "python",
   "name": "python3"
  },
  "language_info": {
   "codemirror_mode": {
    "name": "ipython",
    "version": 3
   },
   "file_extension": ".py",
   "mimetype": "text/x-python",
   "name": "python",
   "nbconvert_exporter": "python",
   "pygments_lexer": "ipython3",
   "version": "3.11.4"
  }
 },
 "nbformat": 4,
 "nbformat_minor": 5
}
